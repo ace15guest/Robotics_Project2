{
 "cells": [
  {
   "cell_type": "code",
   "execution_count": 10,
   "metadata": {},
   "outputs": [],
   "source": [
    "import torch\n",
    "import torch.optim as optim\n",
    "import torch.nn.functional as F\n",
    "import torchvision\n",
    "import torchvision.datasets as datasets\n",
    "import torchvision.models as models\n",
    "import torchvision.transforms as transforms\n",
    "import time"
   ]
  },
  {
   "cell_type": "code",
   "execution_count": 2,
   "metadata": {},
   "outputs": [],
   "source": [
    "!unzip -q dataset.zip"
   ]
  },
  {
   "cell_type": "code",
   "execution_count": 3,
   "metadata": {},
   "outputs": [],
   "source": [
    "dataset = datasets.ImageFolder(\n",
    "    'dataset',\n",
    "    transforms.Compose([\n",
    "        transforms.ColorJitter(0.1, 0.1, 0.1, 0.1),\n",
    "        transforms.Resize((224, 224)),\n",
    "        transforms.ToTensor(),\n",
    "        transforms.Normalize([0.485, 0.456, 0.406], [0.229, 0.224, 0.225])\n",
    "    ])\n",
    ")"
   ]
  },
  {
   "cell_type": "code",
   "execution_count": 4,
   "metadata": {},
   "outputs": [],
   "source": [
    "ptlo = 10 # percent to leave out\n",
    "#train_dataset, test_dataset = torch.utils.data.random_split(dataset, [len(dataset)*(1-ptlo/100), len(dataset)*ptlo/100]) \n",
    "train_dataset, test_dataset = torch.utils.data.random_split(dataset, [len(dataset) - 80, 80])"
   ]
  },
  {
   "cell_type": "code",
   "execution_count": 5,
   "metadata": {},
   "outputs": [],
   "source": [
    "train_loader = torch.utils.data.DataLoader(\n",
    "    train_dataset,\n",
    "    batch_size=8,\n",
    "    shuffle=True,\n",
    "    num_workers=0\n",
    ")\n",
    "\n",
    "test_loader = torch.utils.data.DataLoader(\n",
    "    test_dataset,\n",
    "    batch_size=8,\n",
    "    shuffle=True,\n",
    "    num_workers=0\n",
    ")"
   ]
  },
  {
   "cell_type": "code",
   "execution_count": 6,
   "metadata": {},
   "outputs": [],
   "source": [
    "model = models.alexnet(pretrained=True)"
   ]
  },
  {
   "cell_type": "code",
   "execution_count": 7,
   "metadata": {},
   "outputs": [],
   "source": [
    "model.classifier[6] = torch.nn.Linear(model.classifier[6].in_features, 2)"
   ]
  },
  {
   "cell_type": "code",
   "execution_count": 8,
   "metadata": {},
   "outputs": [],
   "source": [
    "device = torch.device('cuda')\n",
    "model = model.to(device)"
   ]
  },
  {
   "cell_type": "code",
   "execution_count": 11,
   "metadata": {},
   "outputs": [
    {
     "name": "stdout",
     "output_type": "stream",
     "text": [
      "0: 0.875000\n",
      "Fit Time:  168.70462822914124\n",
      "1: 0.925000\n",
      "Fit Time:  63.92973041534424\n",
      "2: 0.837500\n",
      "Fit Time:  30.449626445770264\n",
      "3: 0.962500\n",
      "Fit Time:  65.13450932502747\n",
      "4: 0.925000\n",
      "Fit Time:  30.40734553337097\n",
      "5: 0.962500\n",
      "Fit Time:  27.121387481689453\n",
      "6: 0.950000\n",
      "Fit Time:  27.07621479034424\n",
      "7: 0.925000\n",
      "Fit Time:  27.085599660873413\n",
      "8: 0.950000\n",
      "Fit Time:  27.0825834274292\n",
      "9: 0.950000\n",
      "Fit Time:  27.034441709518433\n",
      "10: 0.962500\n",
      "Fit Time:  27.09162712097168\n",
      "11: 0.962500\n",
      "Fit Time:  27.042799949645996\n",
      "12: 0.975000\n",
      "Fit Time:  66.8077118396759\n",
      "13: 0.925000\n",
      "Fit Time:  30.105292558670044\n",
      "14: 0.975000\n",
      "Fit Time:  27.35999870300293\n",
      "15: 0.975000\n",
      "Fit Time:  27.065980911254883\n",
      "16: 0.975000\n",
      "Fit Time:  27.089840412139893\n",
      "17: 0.975000\n",
      "Fit Time:  27.03125023841858\n",
      "18: 0.962500\n",
      "Fit Time:  27.092516899108887\n",
      "19: 0.950000\n",
      "Fit Time:  27.043670892715454\n",
      "20: 0.950000\n",
      "Fit Time:  27.13512372970581\n",
      "21: 0.987500\n",
      "Fit Time:  49.14266061782837\n",
      "22: 0.962500\n",
      "Fit Time:  30.508421659469604\n",
      "23: 0.950000\n",
      "Fit Time:  27.136265516281128\n",
      "24: 0.975000\n",
      "Fit Time:  27.133655309677124\n",
      "25: 0.975000\n",
      "Fit Time:  27.040515184402466\n",
      "26: 0.950000\n",
      "Fit Time:  27.114141941070557\n",
      "27: 0.950000\n",
      "Fit Time:  27.08704423904419\n",
      "28: 0.950000\n",
      "Fit Time:  27.181535959243774\n",
      "29: 0.950000\n",
      "Fit Time:  27.099068880081177\n"
     ]
    }
   ],
   "source": [
    "NUM_EPOCHS = 30\n",
    "BEST_MODEL_PATH = 'best_model.pth'\n",
    "best_accuracy = 0.0\n",
    "\n",
    "optimizer = optim.SGD(model.parameters(), lr=0.001, momentum=0.9)\n",
    "\n",
    "for epoch in range(NUM_EPOCHS):\n",
    "    init_time = time.time()\n",
    "    for images, labels in iter(train_loader):\n",
    "        images = images.to(device)\n",
    "        labels = labels.to(device)\n",
    "        optimizer.zero_grad()\n",
    "        outputs = model(images)\n",
    "        loss = F.cross_entropy(outputs, labels)\n",
    "        loss.backward()\n",
    "        optimizer.step()\n",
    "    \n",
    "    test_error_count = 0.0\n",
    "    for images, labels in iter(test_loader):\n",
    "        images = images.to(device)\n",
    "        labels = labels.to(device)\n",
    "        outputs = model(images)\n",
    "        test_error_count += float(torch.sum(torch.abs(labels - outputs.argmax(1))))\n",
    "    \n",
    "    test_accuracy = 1.0 - float(test_error_count) / float(len(test_dataset))\n",
    "    print('%d: %f' % (epoch, test_accuracy))\n",
    "    if test_accuracy > best_accuracy:\n",
    "        torch.save(model.state_dict(), BEST_MODEL_PATH)\n",
    "        best_accuracy = test_accuracy\n",
    "    print('Fit Time: ', time.time()-init_time)"
   ]
  },
  {
   "cell_type": "code",
   "execution_count": null,
   "metadata": {},
   "outputs": [],
   "source": []
  }
 ],
 "metadata": {
  "kernelspec": {
   "display_name": "Python 3",
   "language": "python",
   "name": "python3"
  },
  "language_info": {
   "codemirror_mode": {
    "name": "ipython",
    "version": 3
   },
   "file_extension": ".py",
   "mimetype": "text/x-python",
   "name": "python",
   "nbconvert_exporter": "python",
   "pygments_lexer": "ipython3",
   "version": "3.6.9"
  }
 },
 "nbformat": 4,
 "nbformat_minor": 5
}
