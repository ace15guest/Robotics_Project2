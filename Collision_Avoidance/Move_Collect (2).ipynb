{
 "cells": [
  {
   "cell_type": "code",
   "execution_count": 1,
   "id": "creative-comparative",
   "metadata": {},
   "outputs": [],
   "source": [
    "from jetbot import Robot\n",
    "import traitlets\n",
    "from IPython.display import display\n",
    "from jetbot import Camera, bgr8_to_jpeg\n",
    "import ipywidgets.widgets as widgets\n",
    "import ipywidgets as widgets\n",
    "from ipywidgets import *\n",
    "from IPython.display import display, HTML\n",
    "from uuid import uuid4\n",
    "import time\n",
    "import uuid\n",
    "from IPython.display import Image\n",
    "import subprocess\n",
    "import os, os.path\n",
    "from uuid import uuid1"
   ]
  },
  {
   "cell_type": "code",
   "execution_count": 2,
   "id": "manufactured-stuart",
   "metadata": {},
   "outputs": [],
   "source": [
    "controller = widgets.Controller(index=0)\n",
    "jetbot = Robot()\n",
    "camera = Camera.instance(width=224, height=224)\n",
    "image = widgets.Image(format='jpeg', width=224, height=224)"
   ]
  },
  {
   "cell_type": "code",
   "execution_count": 3,
   "id": "noble-temple",
   "metadata": {},
   "outputs": [
    {
     "data": {
      "application/vnd.jupyter.widget-view+json": {
       "model_id": "10a13236882e4dbd892712f2ea5a4697",
       "version_major": 2,
       "version_minor": 0
      },
      "text/plain": [
       "Controller(axes=(Axis(value=0.0), Axis(value=0.0), Axis(value=0.0), Axis(value=0.0), Axis(value=0.0), Axis(val…"
      ]
     },
     "metadata": {},
     "output_type": "display_data"
    }
   ],
   "source": [
    "left_link = traitlets.dlink((controller.axes[1], 'value'), (jetbot.left_motor, 'value'), transform=lambda x: -.3*x)\n",
    "right_link = traitlets.dlink((controller.axes[0], 'value'), (jetbot.right_motor, 'value'), transform=lambda x: -.3*x)\n",
    "camera_link = traitlets.dlink((camera, 'value'), (image, 'value'), transform=bgr8_to_jpeg)\n",
    "# jetbot.left_motor.value = 0.1\n",
    "# jetbot.right_motor.value = 0.1\n",
    "display(controller)"
   ]
  },
  {
   "cell_type": "code",
   "execution_count": 4,
   "id": "otherwise-bookmark",
   "metadata": {},
   "outputs": [],
   "source": [
    "subprocess.call(['mkdir', '-p', 'freesnapshots'])\n",
    "\n",
    "snapshot_image = widgets.Image(format='jpeg', width=300, height=300)\n",
    "\n",
    "def save_freesnapshot(change):\n",
    "    # save snapshot when button is pressed down\n",
    "    if change['new']:\n",
    "        file_path = 'freesnapshots/' + str(uuid.uuid1()) + '.jpg'\n",
    "        \n",
    "        # write snapshot to file (we use image value instead of camera because it's already in JPEG format)\n",
    "        with open(file_path, 'wb') as f:\n",
    "            f.write(image.value)\n",
    "            \n",
    "        # display snapshot that was saved\n",
    "        snapshot_image.value = image.value\n",
    "\n",
    "\n",
    "controller.buttons[6].observe(save_freesnapshot, names='value')"
   ]
  },
  {
   "cell_type": "code",
   "execution_count": null,
   "id": "significant-persian",
   "metadata": {},
   "outputs": [],
   "source": [
    "subprocess.call(['mkdir', '-p', 'dataset/blocked'])\n",
    "\n",
    "snapshot_image = widgets.Image(format='jpeg', width=300, height=300)\n",
    "\n",
    "def save_blockedsnapshot(change):\n",
    "    # save snapshot when button is pressed down\n",
    "    if change['new']:\n",
    "        file_path = 'dataset/blocked/' + str(uuid.uuid1()) + '.jpg'\n",
    "        \n",
    "        # write snapshot to file (we use image value instead of camera because it's already in JPEG format)\n",
    "        with open(file_path, 'wb') as f:\n",
    "            f.write(image.value)\n",
    "            \n",
    "        # display snapshot that was saved\n",
    "        snapshot_image.value = image.value\n",
    "\n",
    "\n",
    "controller.buttons[7].observe(save_blockedsnapshot, names='value')"
   ]
  },
  {
   "cell_type": "code",
   "execution_count": 5,
   "id": "respective-destruction",
   "metadata": {},
   "outputs": [
    {
     "data": {
      "application/vnd.jupyter.widget-view+json": {
       "model_id": "3e6b2e51f28b41938e85c676ec882bcd",
       "version_major": 2,
       "version_minor": 0
      },
      "text/plain": [
       "Image(value=b'\\xff\\xd8\\xff\\xe0\\x00\\x10JFIF\\x00\\x01\\x01\\x00\\x00\\x01\\x00\\x01\\x00\\x00\\xff\\xdb\\x00C\\x00\\x02\\x01\\x0…"
      ]
     },
     "metadata": {},
     "output_type": "display_data"
    }
   ],
   "source": [
    "display(image)"
   ]
  },
  {
   "cell_type": "code",
   "execution_count": 11,
   "id": "killing-horror",
   "metadata": {},
   "outputs": [
    {
     "data": {
      "text/plain": [
       "153"
      ]
     },
     "execution_count": 11,
     "metadata": {},
     "output_type": "execute_result"
    }
   ],
   "source": [
    "DIR1 = '/../../../workspace/Robotics@/freesnapshots'\n",
    "path1, dirs1, files1 = next(os.walk(DIR1))\n",
    "len1 = len(files1)\n",
    "len1"
   ]
  },
  {
   "cell_type": "code",
   "execution_count": 12,
   "id": "regulation-import",
   "metadata": {},
   "outputs": [],
   "source": [
    "!zip -r -q dataset.zip dataset1"
   ]
  },
  {
   "cell_type": "code",
   "execution_count": null,
   "id": "spectacular-review",
   "metadata": {},
   "outputs": [],
   "source": []
  }
 ],
 "metadata": {
  "kernelspec": {
   "display_name": "Python 3",
   "language": "python",
   "name": "python3"
  },
  "language_info": {
   "codemirror_mode": {
    "name": "ipython",
    "version": 3
   },
   "file_extension": ".py",
   "mimetype": "text/x-python",
   "name": "python",
   "nbconvert_exporter": "python",
   "pygments_lexer": "ipython3",
   "version": "3.6.9"
  }
 },
 "nbformat": 4,
 "nbformat_minor": 5
}
